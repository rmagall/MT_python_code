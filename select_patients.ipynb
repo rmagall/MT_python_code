{
 "cells": [
  {
   "cell_type": "code",
   "execution_count": 1,
   "metadata": {},
   "outputs": [],
   "source": [
    "#libraries\n",
    "import pandas as pd"
   ]
  },
  {
   "cell_type": "code",
   "execution_count": 2,
   "metadata": {},
   "outputs": [
    {
     "name": "stdout",
     "output_type": "stream",
     "text": [
      "<class 'pandas.core.frame.DataFrame'>\n",
      "RangeIndex: 68 entries, 0 to 67\n",
      "Data columns (total 9 columns):\n",
      " #   Column                             Non-Null Count  Dtype  \n",
      "---  ------                             --------------  -----  \n",
      " 0   Patient_ID                         68 non-null     object \n",
      " 1   Age                                68 non-null     int64  \n",
      " 2   Sex                                68 non-null     object \n",
      " 3   Disease_Phase                      68 non-null     object \n",
      " 4   Chemotherapy                       68 non-null     object \n",
      " 5   FirstNFDayRelativeToD1Chemo        64 non-null     float64\n",
      " 6   DiarrheaStartDayRelativeToD1Chemo  36 non-null     float64\n",
      " 7   DiarrheaEndDayRelativeToD1Chemo    36 non-null     float64\n",
      " 8   FirstCDiffDayRelativeToD1Chemo     17 non-null     float64\n",
      "dtypes: float64(4), int64(1), object(4)\n",
      "memory usage: 4.9+ KB\n"
     ]
    }
   ],
   "source": [
    "#import data \n",
    "df = pd.read_csv(\"/Users/renata.m/Desktop/Thesis/Rashidi_Data_2022/PatientMetadata.csv\", header=5)\n",
    "df.info()\n"
   ]
  },
  {
   "cell_type": "code",
   "execution_count": 3,
   "metadata": {},
   "outputs": [
    {
     "name": "stdout",
     "output_type": "stream",
     "text": [
      "<class 'pandas.core.frame.DataFrame'>\n",
      "RangeIndex: 566 entries, 0 to 565\n",
      "Data columns (total 5 columns):\n",
      " #   Column                      Non-Null Count  Dtype \n",
      "---  ------                      --------------  ----- \n",
      " 0   Accession_Number            566 non-null    object\n",
      " 1   Patient_ID                  566 non-null    object\n",
      " 2   SampleDayRelativeToD1Chemo  566 non-null    int64 \n",
      " 3   16S_qPCR (copies/µl)        566 non-null    object\n",
      " 4   Quality                     566 non-null    object\n",
      "dtypes: int64(1), object(4)\n",
      "memory usage: 22.2+ KB\n"
     ]
    }
   ],
   "source": [
    "stool_samples = pd.read_csv('/Users/renata.m/Desktop/Thesis/Rashidi_Data_2022/StoolSamplesTable.csv', header=2)\n",
    "stool_samples.info()"
   ]
  },
  {
   "cell_type": "code",
   "execution_count": 4,
   "metadata": {},
   "outputs": [
    {
     "name": "stdout",
     "output_type": "stream",
     "text": [
      "<class 'pandas.core.frame.DataFrame'>\n",
      "RangeIndex: 566 entries, 0 to 565\n",
      "Data columns (total 13 columns):\n",
      " #   Column                             Non-Null Count  Dtype  \n",
      "---  ------                             --------------  -----  \n",
      " 0   Patient_ID                         566 non-null    object \n",
      " 1   Age                                566 non-null    int64  \n",
      " 2   Sex                                566 non-null    object \n",
      " 3   Disease_Phase                      566 non-null    object \n",
      " 4   Chemotherapy                       566 non-null    object \n",
      " 5   FirstNFDayRelativeToD1Chemo        541 non-null    float64\n",
      " 6   DiarrheaStartDayRelativeToD1Chemo  316 non-null    float64\n",
      " 7   DiarrheaEndDayRelativeToD1Chemo    316 non-null    float64\n",
      " 8   FirstCDiffDayRelativeToD1Chemo     178 non-null    float64\n",
      " 9   Accession_Number                   566 non-null    object \n",
      " 10  SampleDayRelativeToD1Chemo         566 non-null    int64  \n",
      " 11  16S_qPCR (copies/µl)               566 non-null    object \n",
      " 12  Quality                            566 non-null    object \n",
      "dtypes: float64(4), int64(2), object(7)\n",
      "memory usage: 57.6+ KB\n"
     ]
    }
   ],
   "source": [
    "metadata_df = df.merge(stool_samples, on='Patient_ID', how='inner')\n",
    "metadata_df.info()"
   ]
  },
  {
   "cell_type": "code",
   "execution_count": 5,
   "metadata": {},
   "outputs": [
    {
     "name": "stdout",
     "output_type": "stream",
     "text": [
      "<class 'pandas.core.frame.DataFrame'>\n",
      "Index: 50 entries, 0 to 548\n",
      "Data columns (total 8 columns):\n",
      " #   Column                             Non-Null Count  Dtype  \n",
      "---  ------                             --------------  -----  \n",
      " 0   Patient_ID                         50 non-null     object \n",
      " 1   Age                                50 non-null     int64  \n",
      " 2   Sex                                50 non-null     object \n",
      " 3   Disease_Phase                      50 non-null     object \n",
      " 4   FirstNFDayRelativeToD1Chemo        48 non-null     float64\n",
      " 5   DiarrheaStartDayRelativeToD1Chemo  29 non-null     float64\n",
      " 6   DiarrheaEndDayRelativeToD1Chemo    29 non-null     float64\n",
      " 7   FirstCDiffDayRelativeToD1Chemo     16 non-null     float64\n",
      "dtypes: float64(4), int64(1), object(3)\n",
      "memory usage: 3.5+ KB\n"
     ]
    }
   ],
   "source": [
    "# Step 1: Count the number of samples per patient\n",
    "sample_counts = metadata_df['Patient_ID'].value_counts()\n",
    "\n",
    "# Step 2: Filter patients with at least 7 samples\n",
    "patients_with_7_or_more_samples = sample_counts[sample_counts >= 7].index\n",
    "\n",
    "# Step 3: Filter the original DataFrame to include only these patients\n",
    "filtered_df = metadata_df[metadata_df['Patient_ID'].isin(patients_with_7_or_more_samples)]\n",
    "\n",
    "# Step 4: Drop duplicates to keep one row per patient, and select the relevant columns\n",
    "result_df = filtered_df.drop_duplicates(subset='Patient_ID')[[\n",
    "    'Patient_ID', 'Age', 'Sex', 'Disease_Phase', 'FirstNFDayRelativeToD1Chemo',\n",
    "    'DiarrheaStartDayRelativeToD1Chemo', 'DiarrheaEndDayRelativeToD1Chemo',\n",
    "    'FirstCDiffDayRelativeToD1Chemo'\n",
    "]]\n",
    "\n",
    "result_df.info()"
   ]
  },
  {
   "cell_type": "code",
   "execution_count": 6,
   "metadata": {},
   "outputs": [
    {
     "name": "stdout",
     "output_type": "stream",
     "text": [
      "<class 'pandas.core.frame.DataFrame'>\n",
      "RangeIndex: 494 entries, 0 to 493\n",
      "Data columns (total 9 columns):\n",
      " #   Column                             Non-Null Count  Dtype  \n",
      "---  ------                             --------------  -----  \n",
      " 0   Patient_ID                         494 non-null    object \n",
      " 1   Age                                494 non-null    int64  \n",
      " 2   Sex                                494 non-null    object \n",
      " 3   Disease_Phase                      494 non-null    object \n",
      " 4   FirstNFDayRelativeToD1Chemo        473 non-null    float64\n",
      " 5   DiarrheaStartDayRelativeToD1Chemo  289 non-null    float64\n",
      " 6   DiarrheaEndDayRelativeToD1Chemo    289 non-null    float64\n",
      " 7   FirstCDiffDayRelativeToD1Chemo     176 non-null    float64\n",
      " 8   ID                                 494 non-null    object \n",
      "dtypes: float64(4), int64(1), object(4)\n",
      "memory usage: 34.9+ KB\n"
     ]
    }
   ],
   "source": [
    "final_metadata = result_df.merge(stool_samples, on=['Patient_ID'], how='inner')\n",
    "final_metadata = final_metadata.rename({'Accession_Number':'ID'}, axis=1)\n",
    "final_metadata = final_metadata[['Patient_ID', 'Age', 'Sex', 'Disease_Phase', 'FirstNFDayRelativeToD1Chemo', 'DiarrheaStartDayRelativeToD1Chemo', 'DiarrheaEndDayRelativeToD1Chemo', 'FirstCDiffDayRelativeToD1Chemo', 'ID']]\n",
    "final_metadata.info()"
   ]
  }
 ],
 "metadata": {
  "kernelspec": {
   "display_name": "Python 3",
   "language": "python",
   "name": "python3"
  },
  "language_info": {
   "codemirror_mode": {
    "name": "ipython",
    "version": 3
   },
   "file_extension": ".py",
   "mimetype": "text/x-python",
   "name": "python",
   "nbconvert_exporter": "python",
   "pygments_lexer": "ipython3",
   "version": "3.12.4"
  }
 },
 "nbformat": 4,
 "nbformat_minor": 2
}
