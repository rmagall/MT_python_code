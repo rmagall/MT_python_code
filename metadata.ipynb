{
 "cells": [
  {
   "cell_type": "code",
   "execution_count": 7,
   "metadata": {},
   "outputs": [],
   "source": [
    "#import libraries \n",
    "import pandas as pd\n",
    "import numpy as np\n",
    "import matplotlib.pyplot as plt\n",
    "import seaborn as sns\n",
    "%matplotlib inline"
   ]
  },
  {
   "cell_type": "code",
   "execution_count": 22,
   "metadata": {},
   "outputs": [
    {
     "name": "stdout",
     "output_type": "stream",
     "text": [
      "<class 'pandas.core.frame.DataFrame'>\n",
      "RangeIndex: 494 entries, 0 to 493\n",
      "Data columns (total 1 columns):\n",
      " #   Column  Non-Null Count  Dtype \n",
      "---  ------  --------------  ----- \n",
      " 0   ID      494 non-null    object\n",
      "dtypes: object(1)\n",
      "memory usage: 4.0+ KB\n"
     ]
    }
   ],
   "source": [
    "file_path_metadata = '/Users/renata.m/QIIME2/qiime2-final_analysis-silva_abx/sra-metadata.tsv'\n",
    "sra_metadata = pd.read_csv(file_path_metadata, sep='\\t')\n",
    "sra_metadata = sra_metadata[['ID']]\n",
    "sra_metadata.info()"
   ]
  },
  {
   "cell_type": "code",
   "execution_count": 23,
   "metadata": {},
   "outputs": [
    {
     "name": "stdout",
     "output_type": "stream",
     "text": [
      "<class 'pandas.core.frame.DataFrame'>\n",
      "RangeIndex: 566 entries, 0 to 565\n",
      "Data columns (total 3 columns):\n",
      " #   Column                      Non-Null Count  Dtype \n",
      "---  ------                      --------------  ----- \n",
      " 0   ID                          566 non-null    object\n",
      " 1   Patient_ID                  566 non-null    object\n",
      " 2   SampleDayRelativeToD1Chemo  566 non-null    int64 \n",
      "dtypes: int64(1), object(2)\n",
      "memory usage: 13.4+ KB\n"
     ]
    }
   ],
   "source": [
    "file_path_sample_data = '/Users/renata.m/Desktop/Thesis/Rashidi_Data_2022/StoolSamplesTable.csv'\n",
    "sample_df = pd.read_csv(file_path_sample_data, header=2)\n",
    "sample_df = sample_df.rename({'Accession_Number':'ID'}, axis=1)\n",
    "sample_df = sample_df[['ID', 'Patient_ID', 'SampleDayRelativeToD1Chemo']]\n",
    "sample_df.info()"
   ]
  },
  {
   "cell_type": "code",
   "execution_count": 24,
   "metadata": {},
   "outputs": [
    {
     "name": "stdout",
     "output_type": "stream",
     "text": [
      "<class 'pandas.core.frame.DataFrame'>\n",
      "RangeIndex: 494 entries, 0 to 493\n",
      "Data columns (total 3 columns):\n",
      " #   Column                      Non-Null Count  Dtype \n",
      "---  ------                      --------------  ----- \n",
      " 0   ID                          494 non-null    object\n",
      " 1   Patient_ID                  494 non-null    object\n",
      " 2   SampleDayRelativeToD1Chemo  494 non-null    int64 \n",
      "dtypes: int64(1), object(2)\n",
      "memory usage: 11.7+ KB\n"
     ]
    }
   ],
   "source": [
    "sample_sra_metadata = sample_df.merge(sra_metadata, on='ID', how='inner')\n",
    "sample_sra_metadata.info()"
   ]
  },
  {
   "cell_type": "code",
   "execution_count": 25,
   "metadata": {},
   "outputs": [
    {
     "name": "stdout",
     "output_type": "stream",
     "text": [
      "<class 'pandas.core.frame.DataFrame'>\n",
      "RangeIndex: 68 entries, 0 to 67\n",
      "Data columns (total 9 columns):\n",
      " #   Column                             Non-Null Count  Dtype  \n",
      "---  ------                             --------------  -----  \n",
      " 0   Patient_ID                         68 non-null     object \n",
      " 1   Age                                68 non-null     int64  \n",
      " 2   Sex                                68 non-null     object \n",
      " 3   Disease_Phase                      68 non-null     object \n",
      " 4   Chemotherapy                       68 non-null     object \n",
      " 5   FirstNFDayRelativeToD1Chemo        64 non-null     float64\n",
      " 6   DiarrheaStartDayRelativeToD1Chemo  36 non-null     float64\n",
      " 7   DiarrheaEndDayRelativeToD1Chemo    36 non-null     float64\n",
      " 8   FirstCDiffDayRelativeToD1Chemo     17 non-null     float64\n",
      "dtypes: float64(4), int64(1), object(4)\n",
      "memory usage: 4.9+ KB\n"
     ]
    }
   ],
   "source": [
    "file_path_patient_data = '/Users/renata.m/Desktop/Thesis/Rashidi_Data_2022/PatientMetadata.csv'\n",
    "patient_df = pd.read_csv(file_path_patient_data, header = 5)\n",
    "patient_df.info()"
   ]
  },
  {
   "cell_type": "code",
   "execution_count": 26,
   "metadata": {},
   "outputs": [
    {
     "name": "stdout",
     "output_type": "stream",
     "text": [
      "<class 'pandas.core.frame.DataFrame'>\n",
      "RangeIndex: 494 entries, 0 to 493\n",
      "Data columns (total 11 columns):\n",
      " #   Column                             Non-Null Count  Dtype  \n",
      "---  ------                             --------------  -----  \n",
      " 0   ID                                 494 non-null    object \n",
      " 1   Patient_ID                         494 non-null    object \n",
      " 2   SampleDayRelativeToD1Chemo         494 non-null    int64  \n",
      " 3   Age                                494 non-null    int64  \n",
      " 4   Sex                                494 non-null    object \n",
      " 5   Disease_Phase                      494 non-null    object \n",
      " 6   Chemotherapy                       494 non-null    object \n",
      " 7   FirstNFDayRelativeToD1Chemo        473 non-null    float64\n",
      " 8   DiarrheaStartDayRelativeToD1Chemo  289 non-null    float64\n",
      " 9   DiarrheaEndDayRelativeToD1Chemo    289 non-null    float64\n",
      " 10  FirstCDiffDayRelativeToD1Chemo     176 non-null    float64\n",
      "dtypes: float64(4), int64(2), object(5)\n",
      "memory usage: 42.6+ KB\n"
     ]
    }
   ],
   "source": [
    "sra_metadata_patient = sample_sra_metadata.merge(patient_df, on=['Patient_ID'], how='inner')\n",
    "sra_metadata_patient.info()"
   ]
  },
  {
   "cell_type": "code",
   "execution_count": 27,
   "metadata": {},
   "outputs": [],
   "source": [
    "# Create binary column for CDiff infection\n",
    "sra_metadata_patient['CDiff_infection'] = sra_metadata_patient['FirstCDiffDayRelativeToD1Chemo'].notna().astype(int)\n",
    "\n",
    "# Create binary column for NF\n",
    "sra_metadata_patient['NF'] = sra_metadata_patient['FirstNFDayRelativeToD1Chemo'].notna().astype(int)\n",
    "\n",
    "# Create binary column for NF\n",
    "sra_metadata_patient['Diarrhea'] = sra_metadata_patient['DiarrheaStartDayRelativeToD1Chemo'].notna().astype(int)"
   ]
  },
  {
   "cell_type": "code",
   "execution_count": 28,
   "metadata": {},
   "outputs": [],
   "source": [
    "#bins and labels for the time \n",
    "bins = [-float('inf'), -1, 4, 9, 15, 21, 28,float('inf')]\n",
    "labels = ['0_Before D1 chemo', '1_Day 0 to 4', '2_Day 5 to 9', '3_Day 10 to 15', '4_Day 16 to 22', '5_Day 23 to 28', '6_Day 28+']\n",
    "\n",
    "# new column 'Time_group'\n",
    "sra_metadata_patient_time = sra_metadata_patient.assign(Time_group=pd.cut(sra_metadata_patient['SampleDayRelativeToD1Chemo'], bins=bins, labels=labels))\n"
   ]
  },
  {
   "cell_type": "code",
   "execution_count": 29,
   "metadata": {},
   "outputs": [
    {
     "name": "stdout",
     "output_type": "stream",
     "text": [
      "<class 'pandas.core.frame.DataFrame'>\n",
      "RangeIndex: 494 entries, 0 to 493\n",
      "Data columns (total 15 columns):\n",
      " #   Column                             Non-Null Count  Dtype   \n",
      "---  ------                             --------------  -----   \n",
      " 0   ID                                 494 non-null    object  \n",
      " 1   Patient_ID                         494 non-null    object  \n",
      " 2   SampleDayRelativeToD1Chemo         494 non-null    int64   \n",
      " 3   Age                                494 non-null    int64   \n",
      " 4   Sex                                494 non-null    object  \n",
      " 5   Disease_Phase                      494 non-null    object  \n",
      " 6   Chemotherapy                       494 non-null    object  \n",
      " 7   FirstNFDayRelativeToD1Chemo        473 non-null    float64 \n",
      " 8   DiarrheaStartDayRelativeToD1Chemo  289 non-null    float64 \n",
      " 9   DiarrheaEndDayRelativeToD1Chemo    289 non-null    float64 \n",
      " 10  FirstCDiffDayRelativeToD1Chemo     176 non-null    float64 \n",
      " 11  CDiff_infection                    494 non-null    int64   \n",
      " 12  NF                                 494 non-null    int64   \n",
      " 13  Diarrhea                           494 non-null    int64   \n",
      " 14  Time_group                         494 non-null    category\n",
      "dtypes: category(1), float64(4), int64(5), object(5)\n",
      "memory usage: 55.0+ KB\n"
     ]
    }
   ],
   "source": [
    "sra_metadata_patient_time.info()"
   ]
  },
  {
   "cell_type": "code",
   "execution_count": 30,
   "metadata": {},
   "outputs": [],
   "source": [
    "#sra_metadata_patient_time.to_csv('/Users/renata.m/QIIME2/qiime2-final_analysis-silva_abx/sra_metadata_time.csv')"
   ]
  }
 ],
 "metadata": {
  "kernelspec": {
   "display_name": "Python 3",
   "language": "python",
   "name": "python3"
  },
  "language_info": {
   "codemirror_mode": {
    "name": "ipython",
    "version": 3
   },
   "file_extension": ".py",
   "mimetype": "text/x-python",
   "name": "python",
   "nbconvert_exporter": "python",
   "pygments_lexer": "ipython3",
   "version": "3.12.4"
  }
 },
 "nbformat": 4,
 "nbformat_minor": 2
}
